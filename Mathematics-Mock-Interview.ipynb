{
 "cells": [
  {
   "cell_type": "code",
   "execution_count": 1,
   "metadata": {},
   "outputs": [],
   "source": [
    "import doctest\n",
    "import math\n",
    "\n",
    "import IPython\n",
    "import IPython.display as ipd\n",
    "\n",
    "import spb\n",
    "import sympy as sp\n",
    "import sympy.vector as sv\n",
    "\n",
    "HALF = sp.S.Half\n",
    "PI = sp.pi\n",
    "E = sp.exp\n",
    "POSITIVEINFINITY = sp.S.Infinity"
   ]
  },
  {
   "cell_type": "markdown",
   "metadata": {},
   "source": [
    "Question 1 \n",
    "Evaluate $𝑖^{^2+}$, where $n$ takes positive integer values.\n",
    "\n",
    "Please refer to [Sloane's Integer Sequences][] for sequence [A087960][]\n",
    "for a closed form of the solution\n",
    "\n",
    "To evaluate $𝑖^{𝑛^2+n}$, where $n$ takes positive integer values.\n",
    "    𝑖^{(𝑛^2+n)}\n",
    "\n",
    "$$𝑖^{(𝑛^2+n)} = i^{n^2} i^n$$\n",
    "\n",
    "Since $i^4=1$ and we can find $m,q \\in \\mathbb Z $ such that \n",
    "$n = 4 m + q$ where $q\\ge 0 \\land q \\lt 4$ and \n",
    "\n",
    "\\begin{align*}\n",
    "    i^n &= i^{4*m+q}   & 0 \\le q \\lt 4\\\\\n",
    "        &= i^{4m} i^q  \\\\\n",
    "        &= (i^4)^m i^q \\\\\n",
    "        &= i^q         \\\\\n",
    "    i^n = i^q &= \n",
    "        \\begin{cases}\n",
    "            +1 & n = 0 \\Rightarrow q = 0 \\\\\n",
    "            +i & n = 1 \\Rightarrow q = 1 \\\\\n",
    "            -1 & n = 2 \\Rightarrow q = 2 \\\\\n",
    "            -i & n = 3 \\Rightarrow q = 3 \\\\\n",
    "            +1 & n = 4 \\Rightarrow q = 0 \\\\\n",
    "        \\end{cases} \\\\\n",
    "    i^{n^2} &= i^{{(4*m+q)}^2}                              \\\\\n",
    "            &= i^{16*m^2 + 8*m*q + q^2}                     \\\\\n",
    "            &= i^{16 m^2} \\cdot i^{8 m q} \\cdot  i^{q^2}    \\\\\n",
    "            &= i^{16 m^2} \\cdot i^{8 m q} \\cdot i^{q^2}     \\\\\n",
    "            &= 1 \\cdot 1 \\cdot i^{q^2}                      \\\\\n",
    "            &= i^{q^2}                                      \\\\\n",
    "    i^{n^2} = i^{q^2} &= \n",
    "        \\begin{cases}\n",
    "            +1 & n = 0 \\Rightarrow q = 0 \\\\\n",
    "            +i & n = 1 \\Rightarrow q = 1 \\\\\n",
    "            +1 & n = 2 \\Rightarrow q = 2 \\\\\n",
    "            +i & n = 3 \\Rightarrow q = 3 \\\\\n",
    "            +1 & n = 4 \\Rightarrow q = 0 \\\\\n",
    "        \\end{cases} \\\\\n",
    "    𝑖^{(𝑛^2+n)} &= i^{n^2} i^n  \\\\\n",
    "                &= i^{q^2} i^q  \\\\\n",
    "                &=\n",
    "        \\begin{cases}\n",
    "            +1 \\cdot +1 & n = 0 \\Rightarrow q = 0 \\\\\n",
    "            +i \\cdot +i & n = 1 \\Rightarrow q = 1 \\\\\n",
    "            +1 \\cdot -1 & n = 2 \\Rightarrow q = 2 \\\\\n",
    "            +i \\cdot -i & n = 3 \\Rightarrow q = 3 \\\\\n",
    "            +i \\cdot -i & n = 4 \\Rightarrow q = 3 \\\\\n",
    "        \\end{cases} \\\\\n",
    "                &=\n",
    "        \\begin{cases}\n",
    "            +1 & n = 0 \\Rightarrow q = 0 \\\\\n",
    "            -1 & n = 1 \\Rightarrow q = 1 \\\\\n",
    "            -1 & n = 2 \\Rightarrow q = 2 \\\\\n",
    "            +1 & n = 3 \\Rightarrow q = 3 \\\\\n",
    "            +1 & n = 4 \\Rightarrow q = 0 \\\\\n",
    "        \\end{cases} \\\\\n",
    "\\end{align*}\n",
    "\n",
    "so for $n \\gt 0, 𝑖^{(𝑛^2+n)}$ alternates $-1, -1, +1, +1 \\dots$ \n",
    "\\begin{align*} \n",
    "    𝑖^{(𝑛^2+n)} &= \n",
    "        \\begin{cases}\n",
    "            -1 & n = 1  \\\\\n",
    "            -1 & n = 2  \\\\\n",
    "            +1 & n = 3  \\\\\n",
    "            +1 & n = 4  \\\\\n",
    "            -1 & n = 5  \\\\\n",
    "            -1 & n = 6  \\\\\n",
    "            +1 & n = 7  \\\\\n",
    "            +1 & n = 8  \\\\\n",
    "        \\end{cases} \\dots \\\\ \n",
    "\\end{align*}\n",
    "\n",
    "[Sloane's Integer Sequences]: https://oeis.org/\n",
    "[A087960]: https://oeis.org/A087960"
   ]
  },
  {
   "cell_type": "code",
   "execution_count": 2,
   "metadata": {},
   "outputs": [
    {
     "data": {
      "text/plain": [
       "[-1, -1, 1, 1, -1, -1, 1, 1, -1, -1, 1, 1]"
      ]
     },
     "execution_count": 2,
     "metadata": {},
     "output_type": "execute_result"
    }
   ],
   "source": [
    "n = sp.symbols(\"n\", integer=True)\n",
    "expr = sp.I**(n*n + n)\n",
    "series_1 = [ expr.subs(n, _) for _ in range(1,13) ]\n",
    "series_1"
   ]
  },
  {
   "cell_type": "markdown",
   "metadata": {},
   "source": [
    "## Sloane sequence A087960\n",
    "\n",
    "$$a(n) = -1^{\\binom{n}{2}}$$ \n",
    "\n",
    "see [A087960][] in [Sloane's Integer Sequences][]\n",
    "\n",
    "[A087960]: https://oeis.org/A087960\n",
    "[Sloane's Integer Sequences]: https://oeis.org/"
   ]
  },
  {
   "cell_type": "code",
   "execution_count": 3,
   "metadata": {},
   "outputs": [
    {
     "data": {
      "text/plain": [
       "[-1, -1, 1, 1, -1, -1, 1, 1, -1, -1, 1, 1]"
      ]
     },
     "execution_count": 3,
     "metadata": {},
     "output_type": "execute_result"
    }
   ],
   "source": [
    "a_n =[(-1)**sp.binomial(_, 2) for _ in range(2, 14)]\n",
    "assert series_1 == a_n\n",
    "a_n"
   ]
  }
 ],
 "metadata": {
  "kernelspec": {
   "display_name": "sympy",
   "language": "python",
   "name": "python3"
  },
  "language_info": {
   "codemirror_mode": {
    "name": "ipython",
    "version": 3
   },
   "file_extension": ".py",
   "mimetype": "text/x-python",
   "name": "python",
   "nbconvert_exporter": "python",
   "pygments_lexer": "ipython3",
   "version": "3.10.10"
  }
 },
 "nbformat": 4,
 "nbformat_minor": 2
}
